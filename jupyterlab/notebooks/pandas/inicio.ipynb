{
 "cells": [
  {
   "cell_type": "markdown",
   "id": "3fdbdf4a",
   "metadata": {},
   "source": [
    "Para trabajar con Pandas y Numpy será necesario con tantar con los siguientes paquetes: pasdas, numpy\n",
    "\n",
    "Una vez descargados los cargamos de la siguiente manera:"
   ]
  },
  {
   "cell_type": "code",
   "execution_count": 1,
   "id": "e1cbadc2",
   "metadata": {},
   "outputs": [],
   "source": [
    "import numpy as np\n",
    "import pandas as pd"
   ]
  },
  {
   "cell_type": "markdown",
   "id": "6b365d92",
   "metadata": {},
   "source": [
    "### Series"
   ]
  },
  {
   "cell_type": "code",
   "execution_count": 2,
   "id": "0e2b431c",
   "metadata": {},
   "outputs": [
    {
     "data": {
      "text/plain": [
       "0    10\n",
       "1    20\n",
       "2    30\n",
       "3    40\n",
       "4    50\n",
       "dtype: int64"
      ]
     },
     "execution_count": 2,
     "metadata": {},
     "output_type": "execute_result"
    }
   ],
   "source": [
    "pd.Series( [10,20,30,40,50] )"
   ]
  },
  {
   "cell_type": "markdown",
   "id": "c9489c98",
   "metadata": {},
   "source": [
    "Almacenamos la serie en una variable"
   ]
  },
  {
   "cell_type": "code",
   "execution_count": 3,
   "id": "42659f38",
   "metadata": {},
   "outputs": [],
   "source": [
    "a = pd.Series( [10,20,30,40,50] )"
   ]
  },
  {
   "cell_type": "markdown",
   "id": "2c9f484b",
   "metadata": {},
   "source": [
    "a continuación, podremos utilizar los métodos propios de las series, por ejemplo: su tamaño"
   ]
  },
  {
   "cell_type": "code",
   "execution_count": 4,
   "id": "d7f5b4bb",
   "metadata": {},
   "outputs": [
    {
     "data": {
      "text/plain": [
       "5"
      ]
     },
     "execution_count": 4,
     "metadata": {},
     "output_type": "execute_result"
    }
   ],
   "source": [
    "a.size"
   ]
  },
  {
   "cell_type": "markdown",
   "id": "90d9d6ca",
   "metadata": {},
   "source": [
    "también podremos crear una serie definiendo sus índices, por ejemplo unos índices alfabéticos, pudiendo utilizarlos para acceder a su valor."
   ]
  },
  {
   "cell_type": "code",
   "execution_count": 8,
   "id": "330a0d84",
   "metadata": {},
   "outputs": [
    {
     "data": {
      "text/plain": [
       "40"
      ]
     },
     "execution_count": 8,
     "metadata": {},
     "output_type": "execute_result"
    }
   ],
   "source": [
    "a = pd.Series( [10,20,30,40,50], index=['a','b','c','d','e'] )\n",
    "a['d']"
   ]
  },
  {
   "cell_type": "markdown",
   "id": "51a2ea7e",
   "metadata": {},
   "source": [
    "de esta manera podremos acceder mediante índice o posición."
   ]
  },
  {
   "cell_type": "code",
   "execution_count": 9,
   "id": "b080948f",
   "metadata": {},
   "outputs": [
    {
     "data": {
      "text/plain": [
       "True"
      ]
     },
     "execution_count": 9,
     "metadata": {},
     "output_type": "execute_result"
    }
   ],
   "source": [
    "a['a'] == a[0]"
   ]
  },
  {
   "cell_type": "markdown",
   "id": "931d4237",
   "metadata": {},
   "source": [
    "### Diccionarios"
   ]
  },
  {
   "cell_type": "markdown",
   "id": "71ce546a",
   "metadata": {},
   "source": [
    "definimos un diccionario, y creamos una serie a partir de este diccionario. si visualizamos el contenido no mostrará una una tupla (key, valor) "
   ]
  },
  {
   "cell_type": "code",
   "execution_count": 11,
   "id": "8d9f1d5b",
   "metadata": {},
   "outputs": [
    {
     "data": {
      "text/plain": [
       "nombre      Roberto\n",
       "apellido       West\n",
       "edad             53\n",
       "dtype: object"
      ]
     },
     "execution_count": 11,
     "metadata": {},
     "output_type": "execute_result"
    }
   ],
   "source": [
    "diccionario = {'nombre': 'Roberto', 'apellido': 'West', 'edad': 53}\n",
    "b = pd.Series( diccionario )\n",
    "b"
   ]
  },
  {
   "cell_type": "markdown",
   "id": "6a2116fb",
   "metadata": {},
   "source": [
    "podemos definir un nombre para esta serie:"
   ]
  },
  {
   "cell_type": "code",
   "execution_count": 13,
   "id": "a9444a09",
   "metadata": {},
   "outputs": [
    {
     "data": {
      "text/plain": [
       "nombre      Roberto\n",
       "apellido       West\n",
       "edad             53\n",
       "Name: personas, dtype: object"
      ]
     },
     "execution_count": 13,
     "metadata": {},
     "output_type": "execute_result"
    }
   ],
   "source": [
    "b.name = 'personas'\n",
    "b"
   ]
  },
  {
   "cell_type": "markdown",
   "id": "860deb8f",
   "metadata": {},
   "source": [
    "con el método _index_ podremos obtener información de los índices"
   ]
  },
  {
   "cell_type": "code",
   "execution_count": 14,
   "id": "7353f323",
   "metadata": {},
   "outputs": [
    {
     "data": {
      "text/plain": [
       "Index(['nombre', 'apellido', 'edad'], dtype='object')"
      ]
     },
     "execution_count": 14,
     "metadata": {},
     "output_type": "execute_result"
    }
   ],
   "source": [
    "b.index"
   ]
  },
  {
   "cell_type": "markdown",
   "id": "a233161d",
   "metadata": {},
   "source": [
    "o también, obtener un array con los nombres de los índices"
   ]
  },
  {
   "cell_type": "code",
   "execution_count": 15,
   "id": "7ef25346",
   "metadata": {},
   "outputs": [
    {
     "data": {
      "text/plain": [
       "['nombre', 'apellido', 'edad']"
      ]
     },
     "execution_count": 15,
     "metadata": {},
     "output_type": "execute_result"
    }
   ],
   "source": [
    "b.index.tolist()"
   ]
  },
  {
   "cell_type": "markdown",
   "id": "1851c7cb",
   "metadata": {},
   "source": [
    "todo lo que sepamos sobre los array no servirá también para las series\n",
    "\n",
    "crearemos una serie que contendrá valores nulos, cabe destacar que para utilizar el valor _Null_ hay que utilizar la librería Numpy _np.NaN_ (un poco más difícil de escribir)"
   ]
  },
  {
   "cell_type": "code",
   "execution_count": 19,
   "id": "6550ee15",
   "metadata": {},
   "outputs": [
    {
     "data": {
      "text/plain": [
       "0    10.0\n",
       "1    20.0\n",
       "2     NaN\n",
       "3    40.0\n",
       "4     NaN\n",
       "Name: valores, dtype: float64"
      ]
     },
     "execution_count": 19,
     "metadata": {},
     "output_type": "execute_result"
    }
   ],
   "source": [
    "a = pd.Series([10,20,np.NaN,40,np.NaN])\n",
    "a.name = 'valores'\n",
    "a"
   ]
  },
  {
   "cell_type": "markdown",
   "id": "855e15a5",
   "metadata": {},
   "source": [
    "pasa saber si el elemento es nulo, podremos utiliza la función _isnull()_ o _notnull()_"
   ]
  },
  {
   "cell_type": "code",
   "execution_count": 20,
   "id": "9c26436b",
   "metadata": {},
   "outputs": [
    {
     "data": {
      "text/plain": [
       "0    False\n",
       "1    False\n",
       "2     True\n",
       "3    False\n",
       "4     True\n",
       "Name: valores, dtype: bool"
      ]
     },
     "execution_count": 20,
     "metadata": {},
     "output_type": "execute_result"
    }
   ],
   "source": [
    "pd.isnull( a )"
   ]
  },
  {
   "cell_type": "code",
   "execution_count": 21,
   "id": "14c4dbc1",
   "metadata": {},
   "outputs": [
    {
     "data": {
      "text/plain": [
       "0     True\n",
       "1     True\n",
       "2    False\n",
       "3     True\n",
       "4    False\n",
       "Name: valores, dtype: bool"
      ]
     },
     "execution_count": 21,
     "metadata": {},
     "output_type": "execute_result"
    }
   ],
   "source": [
    "pd.notnull( a )"
   ]
  },
  {
   "cell_type": "markdown",
   "id": "299807bd",
   "metadata": {},
   "source": [
    "el método _dropna()_ nos devolverá una nueva serie sin valores nulos pero sin modificar la serie original"
   ]
  },
  {
   "cell_type": "code",
   "execution_count": 24,
   "id": "6142924a",
   "metadata": {},
   "outputs": [
    {
     "data": {
      "text/plain": [
       "0    10.0\n",
       "1    20.0\n",
       "3    40.0\n",
       "Name: valores, dtype: float64"
      ]
     },
     "execution_count": 24,
     "metadata": {},
     "output_type": "execute_result"
    }
   ],
   "source": [
    "a.dropna()"
   ]
  },
  {
   "cell_type": "markdown",
   "id": "27d64dd4",
   "metadata": {},
   "source": [
    "también podremos reemplazar todos los valores nulos por ceros, pero sin alterar la serie original"
   ]
  },
  {
   "cell_type": "code",
   "execution_count": 25,
   "id": "07779f2c",
   "metadata": {},
   "outputs": [
    {
     "data": {
      "text/plain": [
       "0    10.0\n",
       "1    20.0\n",
       "2     0.0\n",
       "3    40.0\n",
       "4     0.0\n",
       "Name: valores, dtype: float64"
      ]
     },
     "execution_count": 25,
     "metadata": {},
     "output_type": "execute_result"
    }
   ],
   "source": [
    "a.fillna(0)"
   ]
  },
  {
   "cell_type": "code",
   "execution_count": 26,
   "id": "e488154b",
   "metadata": {},
   "outputs": [
    {
     "data": {
      "text/plain": [
       "0    10.0\n",
       "1    20.0\n",
       "2     NaN\n",
       "3    40.0\n",
       "4     NaN\n",
       "Name: valores, dtype: float64"
      ]
     },
     "execution_count": 26,
     "metadata": {},
     "output_type": "execute_result"
    }
   ],
   "source": [
    "a"
   ]
  },
  {
   "cell_type": "markdown",
   "id": "f9b89395",
   "metadata": {},
   "source": [
    "### DataFrame\n",
    "\n",
    "podriamos decir que un dataframe es como una hoja de excel, al definirlo, tendremos una estrucutra similar a esta tabla:\n",
    "\n",
    "|   | columna1 | columna2 | columnaN |\n",
    "|---|----------|----------|----------|\n",
    "| id0 | valor1 | valor2 | valorN |\n",
    "| id1 | valor1 | valor2 | valorN |\n",
    "| idN | valor1 | valor2 | valorN |"
   ]
  },
  {
   "cell_type": "markdown",
   "id": "6fe37980",
   "metadata": {},
   "source": [
    "definimos un diccinario de ejemplo"
   ]
  },
  {
   "cell_type": "code",
   "execution_count": 34,
   "id": "e1e67f9e",
   "metadata": {},
   "outputs": [],
   "source": [
    "usuarios = {\n",
    "    'nombre': ['Eduaro', 'Marcelo', 'Claudia', 'Flavia'],\n",
    "    'calificacion': [9, 10, 8.5, 9.5],\n",
    "    'edad': [27, 25, 30, 22],\n",
    "    'aprobado': [True, True, False, True]\n",
    "}"
   ]
  },
  {
   "cell_type": "markdown",
   "id": "dde2097c",
   "metadata": {},
   "source": [
    "y creamos nuestro dataframe a partir de este diccionario"
   ]
  },
  {
   "cell_type": "code",
   "execution_count": 70,
   "id": "b9ff2692",
   "metadata": {},
   "outputs": [
    {
     "data": {
      "text/html": [
       "<div>\n",
       "<style scoped>\n",
       "    .dataframe tbody tr th:only-of-type {\n",
       "        vertical-align: middle;\n",
       "    }\n",
       "\n",
       "    .dataframe tbody tr th {\n",
       "        vertical-align: top;\n",
       "    }\n",
       "\n",
       "    .dataframe thead th {\n",
       "        text-align: right;\n",
       "    }\n",
       "</style>\n",
       "<table border=\"1\" class=\"dataframe\">\n",
       "  <thead>\n",
       "    <tr style=\"text-align: right;\">\n",
       "      <th></th>\n",
       "      <th>nombre</th>\n",
       "      <th>calificacion</th>\n",
       "      <th>edad</th>\n",
       "      <th>aprobado</th>\n",
       "    </tr>\n",
       "  </thead>\n",
       "  <tbody>\n",
       "    <tr>\n",
       "      <th>0</th>\n",
       "      <td>Eduaro</td>\n",
       "      <td>9.0</td>\n",
       "      <td>27</td>\n",
       "      <td>True</td>\n",
       "    </tr>\n",
       "    <tr>\n",
       "      <th>1</th>\n",
       "      <td>Marcelo</td>\n",
       "      <td>10.0</td>\n",
       "      <td>25</td>\n",
       "      <td>True</td>\n",
       "    </tr>\n",
       "    <tr>\n",
       "      <th>2</th>\n",
       "      <td>Claudia</td>\n",
       "      <td>8.5</td>\n",
       "      <td>30</td>\n",
       "      <td>False</td>\n",
       "    </tr>\n",
       "    <tr>\n",
       "      <th>3</th>\n",
       "      <td>Flavia</td>\n",
       "      <td>9.5</td>\n",
       "      <td>22</td>\n",
       "      <td>True</td>\n",
       "    </tr>\n",
       "  </tbody>\n",
       "</table>\n",
       "</div>"
      ],
      "text/plain": [
       "    nombre  calificacion  edad  aprobado\n",
       "0   Eduaro           9.0    27      True\n",
       "1  Marcelo          10.0    25      True\n",
       "2  Claudia           8.5    30     False\n",
       "3   Flavia           9.5    22      True"
      ]
     },
     "execution_count": 70,
     "metadata": {},
     "output_type": "execute_result"
    }
   ],
   "source": [
    "pd.DataFrame( usuarios )"
   ]
  },
  {
   "cell_type": "markdown",
   "id": "973cb77a",
   "metadata": {},
   "source": [
    "también podríamos definir los índices de nuestro dataframe y definir que columnas queremos obtener"
   ]
  },
  {
   "cell_type": "code",
   "execution_count": 69,
   "id": "18f582f8",
   "metadata": {},
   "outputs": [
    {
     "data": {
      "text/html": [
       "<div>\n",
       "<style scoped>\n",
       "    .dataframe tbody tr th:only-of-type {\n",
       "        vertical-align: middle;\n",
       "    }\n",
       "\n",
       "    .dataframe tbody tr th {\n",
       "        vertical-align: top;\n",
       "    }\n",
       "\n",
       "    .dataframe thead th {\n",
       "        text-align: right;\n",
       "    }\n",
       "</style>\n",
       "<table border=\"1\" class=\"dataframe\">\n",
       "  <thead>\n",
       "    <tr style=\"text-align: right;\">\n",
       "      <th></th>\n",
       "      <th>nombre</th>\n",
       "      <th>edad</th>\n",
       "    </tr>\n",
       "  </thead>\n",
       "  <tbody>\n",
       "    <tr>\n",
       "      <th>a</th>\n",
       "      <td>Eduaro</td>\n",
       "      <td>27</td>\n",
       "    </tr>\n",
       "    <tr>\n",
       "      <th>b</th>\n",
       "      <td>Marcelo</td>\n",
       "      <td>25</td>\n",
       "    </tr>\n",
       "    <tr>\n",
       "      <th>c</th>\n",
       "      <td>Claudia</td>\n",
       "      <td>30</td>\n",
       "    </tr>\n",
       "    <tr>\n",
       "      <th>d</th>\n",
       "      <td>Flavia</td>\n",
       "      <td>22</td>\n",
       "    </tr>\n",
       "  </tbody>\n",
       "</table>\n",
       "</div>"
      ],
      "text/plain": [
       "    nombre  edad\n",
       "a   Eduaro    27\n",
       "b  Marcelo    25\n",
       "c  Claudia    30\n",
       "d   Flavia    22"
      ]
     },
     "execution_count": 69,
     "metadata": {},
     "output_type": "execute_result"
    }
   ],
   "source": [
    "pd.DataFrame(usuarios, index=['a','b','c','d'], columns=['nombre', 'edad'])"
   ]
  },
  {
   "cell_type": "markdown",
   "id": "02af3f04",
   "metadata": {},
   "source": [
    "almacenamos nuestro dataframe en una variable para poder trabajar ..."
   ]
  },
  {
   "cell_type": "code",
   "execution_count": 44,
   "id": "0e2eb8c5",
   "metadata": {},
   "outputs": [],
   "source": [
    "a = pd.DataFrame( usuarios, index=['a','b','c','d'] )"
   ]
  },
  {
   "cell_type": "markdown",
   "id": "2a5eedfe",
   "metadata": {},
   "source": [
    "visualicemos el contenido de nuestro dataframe"
   ]
  },
  {
   "cell_type": "code",
   "execution_count": 46,
   "id": "29b6e5e5",
   "metadata": {},
   "outputs": [
    {
     "data": {
      "text/html": [
       "<div>\n",
       "<style scoped>\n",
       "    .dataframe tbody tr th:only-of-type {\n",
       "        vertical-align: middle;\n",
       "    }\n",
       "\n",
       "    .dataframe tbody tr th {\n",
       "        vertical-align: top;\n",
       "    }\n",
       "\n",
       "    .dataframe thead th {\n",
       "        text-align: right;\n",
       "    }\n",
       "</style>\n",
       "<table border=\"1\" class=\"dataframe\">\n",
       "  <thead>\n",
       "    <tr style=\"text-align: right;\">\n",
       "      <th></th>\n",
       "      <th>nombre</th>\n",
       "      <th>calificacion</th>\n",
       "      <th>edad</th>\n",
       "      <th>aprobado</th>\n",
       "    </tr>\n",
       "  </thead>\n",
       "  <tbody>\n",
       "    <tr>\n",
       "      <th>a</th>\n",
       "      <td>Eduaro</td>\n",
       "      <td>9.0</td>\n",
       "      <td>27</td>\n",
       "      <td>True</td>\n",
       "    </tr>\n",
       "    <tr>\n",
       "      <th>b</th>\n",
       "      <td>Marcelo</td>\n",
       "      <td>10.0</td>\n",
       "      <td>25</td>\n",
       "      <td>True</td>\n",
       "    </tr>\n",
       "    <tr>\n",
       "      <th>c</th>\n",
       "      <td>Claudia</td>\n",
       "      <td>8.5</td>\n",
       "      <td>30</td>\n",
       "      <td>False</td>\n",
       "    </tr>\n",
       "    <tr>\n",
       "      <th>d</th>\n",
       "      <td>Flavia</td>\n",
       "      <td>9.5</td>\n",
       "      <td>22</td>\n",
       "      <td>True</td>\n",
       "    </tr>\n",
       "  </tbody>\n",
       "</table>\n",
       "</div>"
      ],
      "text/plain": [
       "    nombre  calificacion  edad  aprobado\n",
       "a   Eduaro           9.0    27      True\n",
       "b  Marcelo          10.0    25      True\n",
       "c  Claudia           8.5    30     False\n",
       "d   Flavia           9.5    22      True"
      ]
     },
     "execution_count": 46,
     "metadata": {},
     "output_type": "execute_result"
    }
   ],
   "source": [
    "a"
   ]
  },
  {
   "cell_type": "markdown",
   "id": "07e6bba3",
   "metadata": {},
   "source": [
    "obtengamos ahora un listado de las columnas:"
   ]
  },
  {
   "cell_type": "code",
   "execution_count": 53,
   "id": "8529e74e",
   "metadata": {},
   "outputs": [
    {
     "data": {
      "text/plain": [
       "Index(['nombre', 'calificacion', 'edad', 'aprobado'], dtype='object')"
      ]
     },
     "execution_count": 53,
     "metadata": {},
     "output_type": "execute_result"
    }
   ],
   "source": [
    "a.columns"
   ]
  },
  {
   "cell_type": "markdown",
   "id": "17714316",
   "metadata": {},
   "source": [
    "también un listado de los índices"
   ]
  },
  {
   "cell_type": "code",
   "execution_count": 55,
   "id": "0a036dd7",
   "metadata": {},
   "outputs": [
    {
     "data": {
      "text/plain": [
       "Index(['a', 'b', 'c', 'd'], dtype='object')"
      ]
     },
     "execution_count": 55,
     "metadata": {},
     "output_type": "execute_result"
    }
   ],
   "source": [
    "a.index"
   ]
  },
  {
   "cell_type": "markdown",
   "id": "cdb0e676",
   "metadata": {},
   "source": [
    "veamos los datos de una columna específica"
   ]
  },
  {
   "cell_type": "code",
   "execution_count": 47,
   "id": "097b1e04",
   "metadata": {},
   "outputs": [
    {
     "data": {
      "text/plain": [
       "a    27\n",
       "b    25\n",
       "c    30\n",
       "d    22\n",
       "Name: edad, dtype: int64"
      ]
     },
     "execution_count": 47,
     "metadata": {},
     "output_type": "execute_result"
    }
   ],
   "source": [
    "a.edad"
   ]
  },
  {
   "cell_type": "markdown",
   "id": "9312ed05",
   "metadata": {},
   "source": [
    "obtengamos los datos de una columna específica"
   ]
  },
  {
   "cell_type": "code",
   "execution_count": 54,
   "id": "ab5415c7",
   "metadata": {},
   "outputs": [
    {
     "data": {
      "text/plain": [
       "array([27, 25, 30, 22])"
      ]
     },
     "execution_count": 54,
     "metadata": {},
     "output_type": "execute_result"
    }
   ],
   "source": [
    "a.edad.values"
   ]
  },
  {
   "cell_type": "markdown",
   "id": "ed962003",
   "metadata": {},
   "source": [
    "y ahora obtenemos el valor de una celda"
   ]
  },
  {
   "cell_type": "code",
   "execution_count": 67,
   "id": "fd53ae60",
   "metadata": {},
   "outputs": [
    {
     "data": {
      "text/plain": [
       "'Marcelo'"
      ]
     },
     "execution_count": 67,
     "metadata": {},
     "output_type": "execute_result"
    }
   ],
   "source": [
    "a.nombre['b']\n",
    "# también lo prodríamos obtener con a.nombre.b"
   ]
  },
  {
   "cell_type": "markdown",
   "id": "e5c32654",
   "metadata": {},
   "source": [
    "para conocer las dimensiones de la matriz"
   ]
  },
  {
   "cell_type": "code",
   "execution_count": 63,
   "id": "2e7832f1",
   "metadata": {},
   "outputs": [
    {
     "data": {
      "text/plain": [
       "2"
      ]
     },
     "execution_count": 63,
     "metadata": {},
     "output_type": "execute_result"
    }
   ],
   "source": [
    "a.values.ndim"
   ]
  },
  {
   "cell_type": "code",
   "execution_count": null,
   "id": "c2f8742c",
   "metadata": {},
   "outputs": [],
   "source": []
  },
  {
   "cell_type": "code",
   "execution_count": 68,
   "id": "64460028",
   "metadata": {},
   "outputs": [
    {
     "data": {
      "text/html": [
       "<div>\n",
       "<style scoped>\n",
       "    .dataframe tbody tr th:only-of-type {\n",
       "        vertical-align: middle;\n",
       "    }\n",
       "\n",
       "    .dataframe tbody tr th {\n",
       "        vertical-align: top;\n",
       "    }\n",
       "\n",
       "    .dataframe thead th {\n",
       "        text-align: right;\n",
       "    }\n",
       "</style>\n",
       "<table border=\"1\" class=\"dataframe\">\n",
       "  <thead>\n",
       "    <tr style=\"text-align: right;\">\n",
       "      <th></th>\n",
       "      <th>nombre</th>\n",
       "      <th>edad</th>\n",
       "    </tr>\n",
       "  </thead>\n",
       "  <tbody>\n",
       "    <tr>\n",
       "      <th>a</th>\n",
       "      <td>Eduaro</td>\n",
       "      <td>27</td>\n",
       "    </tr>\n",
       "    <tr>\n",
       "      <th>b</th>\n",
       "      <td>Marcelo</td>\n",
       "      <td>25</td>\n",
       "    </tr>\n",
       "    <tr>\n",
       "      <th>c</th>\n",
       "      <td>Claudia</td>\n",
       "      <td>30</td>\n",
       "    </tr>\n",
       "    <tr>\n",
       "      <th>d</th>\n",
       "      <td>Flavia</td>\n",
       "      <td>22</td>\n",
       "    </tr>\n",
       "  </tbody>\n",
       "</table>\n",
       "</div>"
      ],
      "text/plain": [
       "    nombre  edad\n",
       "a   Eduaro    27\n",
       "b  Marcelo    25\n",
       "c  Claudia    30\n",
       "d   Flavia    22"
      ]
     },
     "execution_count": 68,
     "metadata": {},
     "output_type": "execute_result"
    }
   ],
   "source": [
    "pd.DataFrame(usuarios, index=['a','b','c','d'], columns=['nombre', 'edad'])"
   ]
  }
 ],
 "metadata": {
  "kernelspec": {
   "display_name": "Python 3 (ipykernel)",
   "language": "python",
   "name": "python3"
  },
  "language_info": {
   "codemirror_mode": {
    "name": "ipython",
    "version": 3
   },
   "file_extension": ".py",
   "mimetype": "text/x-python",
   "name": "python",
   "nbconvert_exporter": "python",
   "pygments_lexer": "ipython3",
   "version": "3.9.7"
  }
 },
 "nbformat": 4,
 "nbformat_minor": 5
}
